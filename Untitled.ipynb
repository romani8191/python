{
 "cells": [
  {
   "cell_type": "markdown",
   "id": "6e10fa1a",
   "metadata": {},
   "source": [
    "# Testing Testing this is me testing jupyter "
   ]
  },
  {
   "cell_type": "code",
   "execution_count": 1,
   "id": "c456a5f9",
   "metadata": {},
   "outputs": [
    {
     "name": "stdout",
     "output_type": "stream",
     "text": [
      "[[6.23042070e-307 4.67296746e-307 1.69121096e-306 1.33511290e-306\n",
      "  6.23058368e-307 2.22526399e-307]\n",
      " [6.23053614e-307 7.56592338e-307 1.60216183e-306 7.56602523e-307\n",
      "  3.56043054e-307 1.37961641e-306]\n",
      " [2.22518251e-306 1.33511969e-306 6.23036978e-307 6.23053954e-307\n",
      "  9.34609790e-307 8.45593934e-307]\n",
      " [9.34600963e-307 1.86921143e-306 6.23061763e-307 9.34608432e-307\n",
      "  7.56599128e-307 1.42410974e-306]]\n"
     ]
    }
   ],
   "source": [
    "import numpy as np\n",
    "emp=np.empty((4,6))\n",
    "print(emp)"
   ]
  },
  {
   "cell_type": "code",
   "execution_count": null,
   "id": "f2652afc",
   "metadata": {},
   "outputs": [],
   "source": []
  },
  {
   "cell_type": "code",
   "execution_count": null,
   "id": "6318450a",
   "metadata": {},
   "outputs": [],
   "source": []
  }
 ],
 "metadata": {
  "kernelspec": {
   "display_name": "Python 3 (ipykernel)",
   "language": "python",
   "name": "python3"
  },
  "language_info": {
   "codemirror_mode": {
    "name": "ipython",
    "version": 3
   },
   "file_extension": ".py",
   "mimetype": "text/x-python",
   "name": "python",
   "nbconvert_exporter": "python",
   "pygments_lexer": "ipython3",
   "version": "3.10.1"
  }
 },
 "nbformat": 4,
 "nbformat_minor": 5
}
